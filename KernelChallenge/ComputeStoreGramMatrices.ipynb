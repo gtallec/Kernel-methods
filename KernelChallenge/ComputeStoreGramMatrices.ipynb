{
 "cells": [
  {
   "cell_type": "markdown",
   "metadata": {},
   "source": [
    "# <center> Kernel Challenge 2019\n",
    " \n",
    "### Authors: DESFONTAINES Thibault, LELUC Rémi, TALLEC Gauthier\n",
    "\n",
    "In this notebook we create and store the gram matrices for train and test with ngram = 7 in MisMatch Kernel."
   ]
  },
  {
   "cell_type": "markdown",
   "metadata": {},
   "source": [
    "## IMPORT LIBRAIRIES"
   ]
  },
  {
   "cell_type": "code",
   "execution_count": 1,
   "metadata": {},
   "outputs": [],
   "source": [
    "# Our best friends\n",
    "import numpy as np\n",
    "import pandas as pd\n",
    "from tqdm import tqdm\n",
    "# Mismatch kernel\n",
    "from Kernel.SpectrumKernel import AllPossibleCombinationlist,CreateHistogramMismatchSeq\n",
    "from Kernel.SpectrumKernel import histogram_kernel,compute_idf\n",
    "# Classifier\n",
    "from Classifiers.KernelLogisticRegression import KernelLogisticRegression\n",
    "from Classifiers.SVMClassifier import SVMC\n",
    "# Usefool tools \n",
    "from Tools.Utils import accuracy_score\n",
    "from Tools.Utils import train_test_split\n",
    "from Tools.Utils import optimal_c_sv\n",
    "from Tools.Utils import X_train_matrix_0,X_train_matrix_1,X_train_matrix_2\n",
    "from Tools.Utils import X_train_0,X_train_1,X_train_2\n",
    "from Tools.Utils import Y_train_0,Y_train_1,Y_train_2\n",
    "from Tools.Utils import X_test_0,X_test_1,X_test_2\n",
    "from Tools.Utils import X_test_matrix_0,X_test_matrix_1,X_test_matrix_2"
   ]
  },
  {
   "cell_type": "markdown",
   "metadata": {},
   "source": [
    "## COMPUTE GRAM MATRICES AND STORE THEM"
   ]
  },
  {
   "cell_type": "code",
   "execution_count": 2,
   "metadata": {},
   "outputs": [],
   "source": [
    "# Compute all possible combinations\n",
    "nngram = 6\n",
    "list_all_combin_DNA = AllPossibleCombinationlist(['A','C','G','T'],nngram)\n",
    "# Prepare histograms for set 0\n",
    "X_train_histo_0 = np.empty([len(X_train_0),len(list_all_combin_DNA)])\n",
    "X_test_histo_0 = np.empty([len(X_test_0),len(list_all_combin_DNA)])\n",
    "# Prepare histograms for set 1\n",
    "X_train_histo_1 = np.empty([len(X_train_1),len(list_all_combin_DNA)])\n",
    "X_test_histo_1 = np.empty([len(X_test_1),len(list_all_combin_DNA)])\n",
    "# Prepare histograms for set 2\n",
    "X_train_histo_2 = np.empty([len(X_train_2),len(list_all_combin_DNA)])\n",
    "X_test_histo_2 = np.empty([len(X_test_2),len(list_all_combin_DNA)])"
   ]
  },
  {
   "cell_type": "code",
   "execution_count": 3,
   "metadata": {},
   "outputs": [
    {
     "name": "stderr",
     "output_type": "stream",
     "text": [
      "100%|██████████████████████████████████████████████████████████████████████████████| 2000/2000 [09:45<00:00,  3.83it/s]\n",
      "100%|██████████████████████████████████████████████████████████████████████████████| 1000/1000 [04:46<00:00,  3.25it/s]\n"
     ]
    },
    {
     "name": "stdout",
     "output_type": "stream",
     "text": [
      "Done for set 0\n"
     ]
    },
    {
     "name": "stderr",
     "output_type": "stream",
     "text": [
      "100%|██████████████████████████████████████████████████████████████████████████████| 2000/2000 [08:56<00:00,  4.37it/s]\n",
      "100%|██████████████████████████████████████████████████████████████████████████████| 1000/1000 [05:04<00:00,  3.35it/s]\n"
     ]
    },
    {
     "name": "stdout",
     "output_type": "stream",
     "text": [
      "Done for set 1\n"
     ]
    },
    {
     "name": "stderr",
     "output_type": "stream",
     "text": [
      "100%|██████████████████████████████████████████████████████████████████████████████| 2000/2000 [09:42<00:00,  4.28it/s]\n",
      "100%|██████████████████████████████████████████████████████████████████████████████| 1000/1000 [04:22<00:00,  4.17it/s]\n"
     ]
    },
    {
     "name": "stdout",
     "output_type": "stream",
     "text": [
      "Done for set 2\n"
     ]
    }
   ],
   "source": [
    "# Create Mismatch histograms for set 0\n",
    "for i in tqdm(range(len(X_train_0))):\n",
    "    X_train_histo_0[i,:] = CreateHistogramMismatchSeq(X_train_0[i],list_all_combin_DNA,nngram)\n",
    "for j in tqdm(range(len(X_test_0))):\n",
    "    X_test_histo_0[j,:] = CreateHistogramMismatchSeq(X_test_0[j],list_all_combin_DNA,nngram)\n",
    "print('Done for set 0')\n",
    "\n",
    "# Create Mismatch histograms for set 1\n",
    "for i in tqdm(range(len(X_train_1))):\n",
    "    X_train_histo_1[i,:] = CreateHistogramMismatchSeq(X_train_1[i],list_all_combin_DNA,nngram)\n",
    "for j in tqdm(range(len(X_test_1))):\n",
    "    X_test_histo_1[j,:] = CreateHistogramMismatchSeq(X_test_1[j],list_all_combin_DNA,nngram)\n",
    "print('Done for set 1')\n",
    "\n",
    "# Create Mismatch histograms for set 2\n",
    "for i in tqdm(range(len(X_train_2))):\n",
    "    X_train_histo_2[i,:] = CreateHistogramMismatchSeq(X_train_2[i],list_all_combin_DNA,nngram)\n",
    "for j in tqdm(range(len(X_test_2))):\n",
    "    X_test_histo_2[j,:] = CreateHistogramMismatchSeq(X_test_2[j],list_all_combin_DNA,nngram)\n",
    "print('Done for set 2')\n",
    "\n",
    "# Rename datasets and apply normalisation to Y_train (classes +1 and -1)\n",
    "X_train_split_0 = X_train_histo_0\n",
    "y_train_split_0 = Y_train_0\n",
    "y_train_split_0[y_train_split_0==0]=-1\n",
    "\n",
    "X_train_split_1 = X_train_histo_1\n",
    "y_train_split_1 = Y_train_1\n",
    "y_train_split_1[y_train_split_1==0]=-1 \n",
    "\n",
    "X_train_split_2 = X_train_histo_2\n",
    "y_train_split_2 = Y_train_2\n",
    "y_train_split_2[y_train_split_2==0]=-1"
   ]
  },
  {
   "cell_type": "code",
   "execution_count": 4,
   "metadata": {},
   "outputs": [
    {
     "name": "stdout",
     "output_type": "stream",
     "text": [
      "done\n",
      "done\n",
      "done\n",
      "done\n",
      "done\n",
      "done\n"
     ]
    }
   ],
   "source": [
    "#################Compute the train gram matrices#######################\n",
    "gram_train_multi_proc = histogram_kernel(X_train_split_0,n_proc=1)  \n",
    "print('done')\n",
    "gram_train_multi_proc_1 = histogram_kernel(X_train_split_1,n_proc=1)\n",
    "print('done')\n",
    "gram_train_multi_proc_2 = histogram_kernel(X_train_split_2,n_proc=1)\n",
    "print('done')\n",
    "\n",
    "#################Compute test gram matrices#######################\n",
    "gram_test_final_0 =  histogram_kernel(X_train_split_0,X_test_histo_0,n_proc=1)\n",
    "print('done')\n",
    "gram_test_final_1 =  histogram_kernel(X_train_split_1,X_test_histo_1,n_proc=1)\n",
    "print('done')\n",
    "gram_test_final_2 =  histogram_kernel(X_train_split_2,X_test_histo_2,n_proc=1)\n",
    "print('done')"
   ]
  },
  {
   "cell_type": "code",
   "execution_count": 5,
   "metadata": {},
   "outputs": [],
   "source": [
    "# Save Gram train matrices\n",
    "pd.DataFrame(gram_train_multi_proc).to_csv(\"gram_train_multi_proc.csv\",index=False)\n",
    "pd.DataFrame(gram_train_multi_proc_1).to_csv(\"gram_train_multi_proc_1.csv\",index=False)\n",
    "pd.DataFrame(gram_train_multi_proc_2).to_csv(\"gram_train_multi_proc_2.csv\",index=False)\n",
    "# Save Gram test matrices\n",
    "pd.DataFrame(gram_test_final_0).to_csv(\"gram_test_final_0.csv\",index=False)\n",
    "pd.DataFrame(gram_test_final_1).to_csv(\"gram_test_final_1.csv\",index=False)\n",
    "pd.DataFrame(gram_test_final_2).to_csv(\"gram_test_final_2.csv\",index=False)"
   ]
  }
 ],
 "metadata": {
  "kernelspec": {
   "display_name": "Python 3",
   "language": "python",
   "name": "python3"
  },
  "language_info": {
   "codemirror_mode": {
    "name": "ipython",
    "version": 3
   },
   "file_extension": ".py",
   "mimetype": "text/x-python",
   "name": "python",
   "nbconvert_exporter": "python",
   "pygments_lexer": "ipython3",
   "version": "3.7.0"
  }
 },
 "nbformat": 4,
 "nbformat_minor": 2
}
