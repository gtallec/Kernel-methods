{
 "cells": [
  {
   "cell_type": "markdown",
   "metadata": {},
   "source": [
    "# KERNEL DATA CHALLENGE\n",
    "## AUTHORS : Thibault Desfontaines, Rémi Leluc, Gauthier Tallec"
   ]
  },
  {
   "cell_type": "code",
   "execution_count": 1,
   "metadata": {},
   "outputs": [],
   "source": [
    "import Classifiers.SVMClassifier as svm\n",
    "import Preprocessers.PCA as pca\n",
    "import ModelTesters.KernelMethodOptimizer as kmo\n",
    "\n",
    "import Kernels.LinearKernel as lker\n",
    "import Kernels.GaussianKernel as gker\n",
    "import Kernels.KSpectrumKernel as kspker\n",
    "import Kernels.MismatchKernel as misker\n",
    "\n",
    "\n",
    "import matplotlib.pyplot as plt\n",
    "import numpy as np\n",
    "import pandas as pd"
   ]
  },
  {
   "cell_type": "code",
   "execution_count": 2,
   "metadata": {},
   "outputs": [],
   "source": [
    "def bound_normalisation(x):\n",
    "    if x == 0:\n",
    "        return -1\n",
    "    else:\n",
    "        return x"
   ]
  },
  {
   "cell_type": "code",
   "execution_count": 3,
   "metadata": {},
   "outputs": [],
   "source": [
    "def string_to_array(string):\n",
    "    return np.array(list(string))"
   ]
  },
  {
   "cell_type": "markdown",
   "metadata": {},
   "source": [
    "## DATA IMPORTS"
   ]
  },
  {
   "cell_type": "code",
   "execution_count": 4,
   "metadata": {},
   "outputs": [],
   "source": [
    "filepath = 'challenge-dataset/'\n",
    "##Training sets\n",
    "###Inputs\n",
    "Xtr0_mat100 = pd.read_csv(filepath + 'Xtr0_mat100.csv', delimiter=' ', header = None).values\n",
    "Xtr1_mat100 = pd.read_csv(filepath + 'Xtr1_mat100.csv', delimiter=' ', header = None).values\n",
    "Xtr2_mat100 = pd.read_csv(filepath + 'Xtr2_mat100.csv', delimiter=' ', header = None).values\n",
    "\n",
    "Xtr0 = pd.read_csv(filepath + 'Xtr0.csv', delimiter=',', header = 0)['seq'].values\n",
    "Xtr1 = pd.read_csv(filepath + 'Xtr1.csv', delimiter=',', header = 0)['seq'].values\n",
    "Xtr2 = pd.read_csv(filepath + 'Xtr2.csv', delimiter=',', header = 0)['seq'].values\n",
    "\n",
    "###Labels\n",
    "Ytr0 = (pd.read_csv(filepath + 'Ytr0.csv', delimiter=',', sep='\\n', header = 0)['Bound']\n",
    "          .map(bound_normalisation)\n",
    "          .values\n",
    "       )\n",
    "\n",
    "Ytr1 = (pd.read_csv(filepath + 'Ytr1.csv', delimiter=',', sep='\\n', header = 0)['Bound']\n",
    "          .map(bound_normalisation)\n",
    "          .values\n",
    "       )\n",
    "Ytr2 = (pd.read_csv(filepath + 'Ytr2.csv', delimiter=',', sep='\\n', header = 0)['Bound']\n",
    "          .map(bound_normalisation)\n",
    "          .values\n",
    "       )\n",
    "\n",
    "##Testing Sets\n",
    "Xte0_mat100 = pd.read_csv(filepath + 'Xte0_mat100.csv', delimiter=' ', header = None).values\n",
    "Xte1_mat100 = pd.read_csv(filepath + 'Xte1_mat100.csv', delimiter=' ', header = None).values\n",
    "Xte2_mat100 = pd.read_csv(filepath + 'Xte0_mat100.csv', delimiter=' ', header = None).values\n",
    "\n",
    "Xte0 = pd.read_csv(filepath + 'Xte0.csv', delimiter=',', header = 0)['seq'].values\n",
    "Xte1 = pd.read_csv(filepath + 'Xte1.csv', delimiter=',', header = 0)['seq'].values\n",
    "Xte2 = pd.read_csv(filepath + 'Xte2.csv', delimiter=',', header = 0)['seq'].values"
   ]
  },
  {
   "cell_type": "code",
   "execution_count": 5,
   "metadata": {},
   "outputs": [],
   "source": [
    "k = 8\n",
    "m = 1\n",
    "alphabet = ['A','T','G','C']\n",
    "kernel_mismatch = misker.MismatchKernel(k,m,alphabet)"
   ]
  },
  {
   "cell_type": "code",
   "execution_count": 6,
   "metadata": {},
   "outputs": [],
   "source": [
    "X_init = string_to_array(Xtr0[0])\n",
    "for i in range(1,Xtr0.shape[0]):\n",
    "    X_init = np.vstack([X_init, string_to_array(Xtr0[i])])"
   ]
  },
  {
   "cell_type": "code",
   "execution_count": null,
   "metadata": {},
   "outputs": [],
   "source": []
  },
  {
   "cell_type": "code",
   "execution_count": 7,
   "metadata": {},
   "outputs": [
    {
     "data": {
      "text/plain": [
       "'AG'"
      ]
     },
     "execution_count": 7,
     "metadata": {},
     "output_type": "execute_result"
    }
   ],
   "source": [
    "a = np.array(['A','G'])\n",
    "''.join(a)\n"
   ]
  },
  {
   "cell_type": "markdown",
   "metadata": {},
   "source": [
    "## MODEL TESTS\n",
    "\n",
    "### SVM CLASSIFIER WITH K-SPECTRUM KERNEL"
   ]
  },
  {
   "cell_type": "code",
   "execution_count": 8,
   "metadata": {},
   "outputs": [],
   "source": [
    "#KERNEL PART\n",
    "##Kernel parameters\n",
    "\n",
    "k_mer = 3\n",
    "mismatch = 0\n",
    "\n",
    "##Kernel Instanciation\n",
    "k_mismatch_kernel = misker.MismatchKernel(k = k_mer, m = mismatch, alphabet = ['A','T','G','C'])"
   ]
  },
  {
   "cell_type": "code",
   "execution_count": 9,
   "metadata": {},
   "outputs": [],
   "source": [
    "#SVM PART\n",
    "##Regularization Grid Search parameter\n",
    "hyper_parameters_list = np.array([[10**(-i)] for i in range(10)])\n",
    "\n",
    "##SVM Instanciation\n",
    "svm_classifier= svm.SVMClassifier()"
   ]
  },
  {
   "cell_type": "code",
   "execution_count": null,
   "metadata": {},
   "outputs": [
    {
     "data": {
      "application/vnd.jupyter.widget-view+json": {
       "model_id": "8545ea05b3f1491096d833ad9a96cc7e",
       "version_major": 2,
       "version_minor": 0
      },
      "text/plain": [
       "HBox(children=(IntProgress(value=0, max=2000), HTML(value='')))"
      ]
     },
     "metadata": {},
     "output_type": "display_data"
    },
    {
     "name": "stdout",
     "output_type": "stream",
     "text": [
      "\n",
      "D {'AAA': array([4., 1., 2., ..., 2., 2., 1.]), 'AAT': array([1., 1., 5., ..., 0., 0., 3.]), 'AAG': array([1., 0., 2., ..., 1., 1., 2.]), 'AAC': array([4., 2., 2., ..., 0., 5., 1.]), 'ATT': array([3., 1., 4., ..., 0., 1., 4.]), 'ATC': array([1., 0., 2., ..., 0., 2., 1.]), 'AGA': array([3., 1., 3., ..., 1., 0., 2.]), 'AGG': array([2., 3., 2., ..., 0., 2., 0.]), 'AGC': array([3., 1., 2., ..., 0., 2., 3.]), 'ACA': array([2., 3., 3., ..., 2., 1., 1.]), 'ACT': array([2., 0., 2., ..., 1., 5., 1.]), 'ACC': array([1., 4., 1., ..., 1., 1., 1.]), 'TTT': array([1., 3., 1., ..., 0., 0., 7.]), 'TTG': array([4., 1., 3., ..., 2., 3., 5.]), 'TGA': array([3., 0., 3., ..., 0., 5., 3.]), 'TGT': array([1., 1., 2., ..., 0., 1., 1.]), 'TGG': array([2., 2., 2., ..., 2., 1., 3.]), 'TGC': array([3., 1., 3., ..., 2., 3., 1.]), 'TCA': array([2., 1., 3., ..., 3., 3., 0.]), 'TCT': array([2., 0., 3., ..., 1., 0., 4.]), 'TCC': array([1., 1., 0., ..., 5., 1., 0.]), 'GAA': array([2., 1., 4., ..., 0., 3., 4.]), 'GAT': array([1., 0., 1., ..., 0., 2., 1.]), 'GAG': array([6., 1., 2., ..., 0., 0., 0.]), 'GTT': array([1., 2., 0., ..., 1., 2., 1.]), 'GTG': array([2., 1., 0., ..., 0., 2., 1.]), 'GTC': array([1., 0., 2., ..., 3., 0., 0.]), 'GGA': array([3., 3., 3., ..., 0., 3., 1.]), 'GGT': array([2., 2., 0., ..., 0., 0., 1.]), 'GGG': array([2., 4., 0., ..., 0., 1., 1.]), 'GGC': array([1., 4., 1., ..., 5., 0., 1.]), 'GCA': array([3., 2., 5., ..., 2., 2., 3.]), 'GCT': array([1., 0., 0., ..., 0., 3., 3.]), 'GCG': array([1., 3., 1., ..., 5., 0., 0.]), 'GCC': array([3., 5., 0., ..., 8., 1., 0.]), 'CAA': array([4., 2., 4., ..., 1., 0., 1.]), 'CAT': array([2., 0., 3., ..., 1., 3., 1.]), 'CAG': array([1., 4., 3., ..., 1., 4., 3.]), 'CAC': array([2., 2., 2., ..., 4., 1., 0.]), 'CTG': array([3., 2., 2., ..., 0., 3., 0.]), 'CTC': array([3., 1., 2., ..., 6., 0., 1.]), 'CGT': array([1., 0., 1., ..., 3., 2., 0.]), 'CGG': array([1., 4., 0., ..., 3., 1., 0.]), 'CGC': array([1., 4., 0., ..., 8., 0., 0.]), 'CCA': array([2., 2., 1., ..., 0., 2., 1.]), 'CCT': array([1., 4., 0., ..., 6., 1., 0.]), 'CCG': array([2., 3., 0., ..., 8., 0., 0.]), 'CCC': array([1., 8., 0., ..., 5., 0., 2.]), 'ACG': array([0., 1., 0., ..., 1., 3., 0.]), 'TAC': array([0., 1., 0., ..., 0., 1., 1.]), 'TTC': array([0., 2., 1., ..., 0., 2., 2.]), 'TCG': array([0., 1., 0., ..., 0., 0., 0.]), 'GAC': array([0., 2., 2., ..., 1., 3., 1.]), 'CTA': array([0., 1., 0., ..., 0., 3., 1.]), 'ATG': array([0., 0., 4., ..., 1., 2., 2.]), 'TAA': array([0., 0., 1., ..., 0., 3., 2.]), 'TAT': array([0., 0., 1., ..., 0., 1., 3.]), 'TTA': array([0., 0., 1., ..., 0., 1., 4.]), 'GTA': array([0., 0., 1., ..., 0., 0., 2.]), 'CTT': array([0., 0., 1., ..., 2., 3., 6.]), 'ATA': array([0., 0., 0., ..., 0., 1., 1.]), 'AGT': array([0., 0., 0., ..., 1., 1., 2.]), 'CGA': array([0., 0., 0., ..., 0., 0., 0.]), 'TAG': array([0., 0., 0., ..., 0., 0., 2.])}\n",
      "feature_matrix [[4. 1. 2. ... 2. 2. 1.]\n",
      " [1. 1. 5. ... 0. 0. 3.]\n",
      " [1. 0. 2. ... 1. 1. 2.]\n",
      " ...\n",
      " [0. 0. 0. ... 1. 1. 2.]\n",
      " [0. 0. 0. ... 0. 0. 0.]\n",
      " [0. 0. 0. ... 0. 0. 2.]]\n",
      "test routine  0  :  0.5800000000000001 %\n",
      "test routine  1  :  0.54 %\n",
      "test routine  2  :  0.52 %\n",
      "test routine  3  :  0.485 %\n",
      "test routine  4  :  0.54 %\n",
      "accuracy list [0.5800000000000001, 0.54, 0.52, 0.485, 0.54]\n",
      "test routine  0  :  0.6 %\n",
      "test routine  1  :  0.5800000000000001 %\n",
      "test routine  2  :  0.5800000000000001 %\n",
      "test routine  3  :  0.5875 %\n",
      "test routine  4  :  0.615 %\n",
      "accuracy list [0.6, 0.5800000000000001, 0.5800000000000001, 0.5875, 0.615]\n",
      "test routine  0  :  0.585 %\n",
      "test routine  1  :  0.575 %\n",
      "test routine  2  :  0.5825 %\n",
      "test routine  3  :  0.6 %\n",
      "test routine  4  :  0.625 %\n",
      "accuracy list [0.585, 0.575, 0.5825, 0.6, 0.625]\n"
     ]
    }
   ],
   "source": [
    "#MODEL OPTIMIZATION PART\n",
    "##Cross validation parameters\n",
    "k_fold = 5\n",
    "\n",
    "##Model Instanciation\n",
    "model_optimizer = kmo.KernelMethodOptimizer(svm_classifier, k_mismatch_kernel)\n",
    "model_optimizer.find_optimal_parameters(k_fold, Xtr0, Ytr0, hyper_parameters_list, load = False)\n",
    "#optimal_parameters = model_optimizer.find_optimal_parameters(k_fold, Xtr0, Ytr0, hyper_parameters_list)"
   ]
  },
  {
   "cell_type": "code",
   "execution_count": null,
   "metadata": {},
   "outputs": [],
   "source": [
    "\"\"\"\n",
    "#Perform PCA with linear Kernel\n",
    "pca_kernel = lker.LinearKernel()\n",
    "pca_agent = pca.PCA()\n",
    "pca_inputs_al = pca_agent.perform_PCA(inputs = inputs_al,\n",
    "                                      kernel = pca_kernel,\n",
    "                                      dim_num =3)\n",
    "\n",
    "pca_inputs_tr = pca_inputs_al[:1900]\n",
    "pca_inputs_te = pca_inputs_al[1900:]\n",
    "\"\"\""
   ]
  },
  {
   "cell_type": "code",
   "execution_count": null,
   "metadata": {},
   "outputs": [],
   "source": [
    "\"\"\"\n",
    "#Computing bandwidth for gaussian kernel as mean norms of all distances between vectors\n",
    "n = pca_inputs_al.shape[0]\n",
    "Inputs_dup = np.tile(pca_inputs_al[np.newaxis,:,:], reps = (n,1,1))\n",
    "mean_distance = np.mean(np.linalg.norm(Inputs_dup - np.einsum('pnm-> npm', Inputs_dup), axis = 2))\n",
    "del Inputs_dup\n",
    "\"\"\""
   ]
  },
  {
   "cell_type": "code",
   "execution_count": null,
   "metadata": {},
   "outputs": [],
   "source": [
    "\"\"\"\n",
    "lam=10e-4\n",
    "gamma = 1\n",
    "bandwidth = gamma*mean_distance\n",
    "kernel_svm = gker.GaussianKernel(bandwidth)\n",
    "\"\"\""
   ]
  },
  {
   "cell_type": "code",
   "execution_count": null,
   "metadata": {},
   "outputs": [],
   "source": [
    "\"\"\"\n",
    "svmClassifier = svm.SVMClassifier(lam = lam, kernel = kernel_svm)\n",
    "svmClassifier.fit(pca_inputs_tr, labels_tr.astype(np.double))\n",
    "\"\"\""
   ]
  },
  {
   "cell_type": "code",
   "execution_count": null,
   "metadata": {},
   "outputs": [],
   "source": [
    "\"\"\"\n",
    "accuracy = svmClassifier.compute_test_accuracy(pca_inputs_te, labels_te)\n",
    "\"\"\""
   ]
  },
  {
   "cell_type": "code",
   "execution_count": null,
   "metadata": {},
   "outputs": [],
   "source": [
    "D = {'coucou' : np.array([1,2]), 'bonjour' : np.array([3,4])}\n",
    "print(np.array(list(D.values())).shape)"
   ]
  },
  {
   "cell_type": "code",
   "execution_count": null,
   "metadata": {},
   "outputs": [],
   "source": [
    "np.tile(np.arange(16)[:,np.newaxis], reps=(1,5))\n"
   ]
  }
 ],
 "metadata": {
  "kernelspec": {
   "display_name": "Python 3",
   "language": "python",
   "name": "python3"
  },
  "language_info": {
   "codemirror_mode": {
    "name": "ipython",
    "version": 3
   },
   "file_extension": ".py",
   "mimetype": "text/x-python",
   "name": "python",
   "nbconvert_exporter": "python",
   "pygments_lexer": "ipython3",
   "version": "3.7.1"
  }
 },
 "nbformat": 4,
 "nbformat_minor": 2
}
