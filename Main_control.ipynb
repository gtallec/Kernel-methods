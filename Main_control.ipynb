{
 "cells": [
  {
   "cell_type": "markdown",
   "metadata": {},
   "source": [
    "# KERNEL DATA CHALLENGE\n",
    "## AUTHORS : Thibault Desfontaines, Rémi Leluc, Gauthier Tallec"
   ]
  },
  {
   "cell_type": "code",
   "execution_count": 1,
   "metadata": {},
   "outputs": [],
   "source": [
    "import Classifiers.SVMClassifier as svm\n",
    "import Preprocessers.PCA as pca\n",
    "import ModelTesters.KernelMethodOptimizer as kmo\n",
    "\n",
    "import Kernels.LinearKernel as lker\n",
    "import Kernels.GaussianKernel as gker\n",
    "import Kernels.KSpectrumKernel as kspker\n",
    "import Kernels.MismatchKernel as misker\n",
    "\n",
    "\n",
    "import matplotlib.pyplot as plt\n",
    "import numpy as np\n",
    "import pandas as pd"
   ]
  },
  {
   "cell_type": "code",
   "execution_count": 2,
   "metadata": {},
   "outputs": [],
   "source": [
    "def bound_normalisation(x):\n",
    "    if x == 0:\n",
    "        return -1\n",
    "    else:\n",
    "        return x"
   ]
  },
  {
   "cell_type": "code",
   "execution_count": 3,
   "metadata": {},
   "outputs": [],
   "source": [
    "def string_to_array(string):\n",
    "    return np.array(list(string))"
   ]
  },
  {
   "cell_type": "markdown",
   "metadata": {},
   "source": [
    "## DATA IMPORTS"
   ]
  },
  {
   "cell_type": "code",
   "execution_count": 4,
   "metadata": {},
   "outputs": [],
   "source": [
    "filepath = 'challenge-dataset/'\n",
    "##Training sets\n",
    "###Inputs\n",
    "Xtr0_mat100 = pd.read_csv(filepath + 'Xtr0_mat100.csv', delimiter=' ', header = None).values\n",
    "Xtr1_mat100 = pd.read_csv(filepath + 'Xtr1_mat100.csv', delimiter=' ', header = None).values\n",
    "Xtr2_mat100 = pd.read_csv(filepath + 'Xtr2_mat100.csv', delimiter=' ', header = None).values\n",
    "\n",
    "Xtr0 = pd.read_csv(filepath + 'Xtr0.csv', delimiter=',', header = 0)['seq'].values\n",
    "Xtr1 = pd.read_csv(filepath + 'Xtr1.csv', delimiter=',', header = 0)['seq'].values\n",
    "Xtr2 = pd.read_csv(filepath + 'Xtr2.csv', delimiter=',', header = 0)['seq'].values\n",
    "\n",
    "###Labels\n",
    "Ytr0 = (pd.read_csv(filepath + 'Ytr0.csv', delimiter=',', sep='\\n', header = 0)['Bound']\n",
    "          .map(bound_normalisation)\n",
    "          .values\n",
    "       )\n",
    "\n",
    "Ytr1 = (pd.read_csv(filepath + 'Ytr1.csv', delimiter=',', sep='\\n', header = 0)['Bound']\n",
    "          .map(bound_normalisation)\n",
    "          .values\n",
    "       )\n",
    "Ytr2 = (pd.read_csv(filepath + 'Ytr2.csv', delimiter=',', sep='\\n', header = 0)['Bound']\n",
    "          .map(bound_normalisation)\n",
    "          .values\n",
    "       )\n",
    "\n",
    "##Testing Sets\n",
    "Xte0_mat100 = pd.read_csv(filepath + 'Xte0_mat100.csv', delimiter=' ', header = None).values\n",
    "Xte1_mat100 = pd.read_csv(filepath + 'Xte1_mat100.csv', delimiter=' ', header = None).values\n",
    "Xte2_mat100 = pd.read_csv(filepath + 'Xte0_mat100.csv', delimiter=' ', header = None).values\n",
    "\n",
    "Xte0 = pd.read_csv(filepath + 'Xte0.csv', delimiter=',', header = 0)['seq'].values\n",
    "Xte1 = pd.read_csv(filepath + 'Xte1.csv', delimiter=',', header = 0)['seq'].values\n",
    "Xte2 = pd.read_csv(filepath + 'Xte2.csv', delimiter=',', header = 0)['seq'].values"
   ]
  },
  {
   "cell_type": "code",
   "execution_count": 5,
   "metadata": {},
   "outputs": [],
   "source": [
    "k = 8\n",
    "m = 2\n",
    "alphabet = ['A','T','G','C']\n",
    "kernel_mismatch = misker.MismatchKernel(k,m,alphabet)"
   ]
  },
  {
   "cell_type": "markdown",
   "metadata": {},
   "source": [
    "## MODEL TESTS\n",
    "\n",
    "### SVM CLASSIFIER WITH K-SPECTRUM KERNEL"
   ]
  },
  {
   "cell_type": "code",
   "execution_count": 10,
   "metadata": {},
   "outputs": [],
   "source": [
    "#KERNEL PART\n",
    "##Kernel parameters\n",
    "\n",
    "k_mer = 8\n",
    "mismatch = 2\n",
    "\n",
    "##Kernel Instanciation\n",
    "k_mismatch_kernel = misker.MismatchKernel(k = k_mer, m = mismatch, alphabet = ['A','T','G','C'])"
   ]
  },
  {
   "cell_type": "code",
   "execution_count": null,
   "metadata": {},
   "outputs": [],
   "source": []
  },
  {
   "cell_type": "code",
   "execution_count": 11,
   "metadata": {},
   "outputs": [],
   "source": [
    "#SVM PART\n",
    "##Regularization Grid Search parameter\n",
    "hyper_parameters_list = np.array([[10**(-i)] for i in range(1,20)])\n",
    "\n",
    "##SVM Instanciation\n",
    "svm_classifier= svm.SVMClassifier()"
   ]
  },
  {
   "cell_type": "code",
   "execution_count": null,
   "metadata": {},
   "outputs": [
    {
     "data": {
      "application/vnd.jupyter.widget-view+json": {
       "model_id": "2b7339914c0d4ff5b93efa720a9d30cb",
       "version_major": 2,
       "version_minor": 0
      },
      "text/plain": [
       "HBox(children=(IntProgress(value=0, max=2000), HTML(value='')))"
      ]
     },
     "metadata": {},
     "output_type": "display_data"
    },
    {
     "name": "stdout",
     "output_type": "stream",
     "text": [
      "test routine  0  :  0.7175 %\n",
      "test routine  1  :  0.745 %\n",
      "test routine  2  :  0.7175 %\n",
      "test routine  3  :  0.72 %\n",
      "test routine  4  :  0.74 %\n",
      "accuracy list [0.7175, 0.745, 0.7175, 0.72, 0.74]\n",
      "test routine  0  :  0.7175 %\n",
      "test routine  1  :  0.745 %\n",
      "test routine  2  :  0.7175 %\n",
      "test routine  3  :  0.72 %\n",
      "test routine  4  :  0.74 %\n",
      "accuracy list [0.7175, 0.745, 0.7175, 0.72, 0.74]\n",
      "test routine  0  :  0.7175 %\n",
      "test routine  1  :  0.745 %\n",
      "test routine  2  :  0.7175 %\n",
      "test routine  3  :  0.72 %\n",
      "test routine  4  :  0.74 %\n",
      "accuracy list [0.7175, 0.745, 0.7175, 0.72, 0.74]\n",
      "test routine  0  :  0.7175 %\n",
      "test routine  1  :  0.745 %\n",
      "test routine  2  :  0.7175 %\n",
      "test routine  3  :  0.72 %\n",
      "test routine  4  :  0.74 %\n",
      "accuracy list [0.7175, 0.745, 0.7175, 0.72, 0.74]\n",
      "test routine  0  :  0.7175 %\n",
      "test routine  1  :  0.745 %\n",
      "test routine  2  :  0.7175 %\n",
      "test routine  3  :  0.72 %\n",
      "test routine  4  :  0.74 %\n",
      "accuracy list [0.7175, 0.745, 0.7175, 0.72, 0.74]\n",
      "test routine  0  :  0.7175 %\n",
      "test routine  1  :  0.745 %\n",
      "test routine  2  :  0.7175 %\n",
      "test routine  3  :  0.72 %\n",
      "test routine  4  :  0.74 %\n",
      "accuracy list [0.7175, 0.745, 0.7175, 0.72, 0.74]\n",
      "test routine  0  :  0.7175 %\n",
      "test routine  1  :  0.745 %\n",
      "test routine  2  :  0.7175 %\n",
      "test routine  3  :  0.72 %\n",
      "test routine  4  :  0.74 %\n",
      "accuracy list [0.7175, 0.745, 0.7175, 0.72, 0.74]\n",
      "test routine  0  :  0.7175 %\n",
      "test routine  1  :  0.745 %\n",
      "test routine  2  :  0.7175 %\n",
      "test routine  3  :  0.72 %\n",
      "test routine  4  :  0.74 %\n",
      "accuracy list [0.7175, 0.745, 0.7175, 0.72, 0.74]\n",
      "test routine  0  :  0.7175 %\n",
      "test routine  1  :  0.745 %\n",
      "test routine  2  :  0.7175 %\n",
      "test routine  3  :  0.72 %\n",
      "test routine  4  :  0.74 %\n",
      "accuracy list [0.7175, 0.745, 0.7175, 0.72, 0.74]\n",
      "test routine  0  :  0.7175 %\n",
      "test routine  1  :  0.745 %\n",
      "test routine  2  :  0.7175 %\n",
      "test routine  3  :  0.72 %\n",
      "test routine  4  :  0.74 %\n",
      "accuracy list [0.7175, 0.745, 0.7175, 0.72, 0.74]\n",
      "test routine  0  :  0.7175 %\n",
      "test routine  1  :  0.745 %\n",
      "test routine  2  :  0.7175 %\n",
      "test routine  3  :  0.72 %\n",
      "test routine  4  :  0.74 %\n",
      "accuracy list [0.7175, 0.745, 0.7175, 0.72, 0.74]\n",
      "test routine  0  :  0.7175 %\n",
      "test routine  1  :  0.745 %\n",
      "test routine  2  :  0.7175 %\n",
      "test routine  3  :  0.72 %\n",
      "test routine  4  :  0.74 %\n",
      "accuracy list [0.7175, 0.745, 0.7175, 0.72, 0.74]\n",
      "test routine  0  :  0.7175 %\n"
     ]
    }
   ],
   "source": [
    "k_fold = 5\n",
    "model_optimizer = kmo.KernelMethodOptimizer(svm_classifier, k_mismatch_kernel)\n",
    "prediction = model_optimizer.make_optimal_prediction(k = k_fold,\n",
    "                                        inputs = Xtr1,\n",
    "                                        tests = Xte1,\n",
    "                                        labels = Ytr1,\n",
    "                                        hyperParametersList = hyper_parameters_list,\n",
    "                                        dataset = str(1),\n",
    "                                        load_train = False,\n",
    "                                        load_test = False)\n"
   ]
  },
  {
   "cell_type": "code",
   "execution_count": 15,
   "metadata": {},
   "outputs": [
    {
     "data": {
      "text/plain": [
       "[3, 4, 5]"
      ]
     },
     "execution_count": 15,
     "metadata": {},
     "output_type": "execute_result"
    }
   ],
   "source": [
    "L = [1,2,3,4,5]\n",
    "L[:2]\n",
    "L[2:]"
   ]
  },
  {
   "cell_type": "code",
   "execution_count": null,
   "metadata": {},
   "outputs": [],
   "source": [
    "\"\"\"\n",
    "#Perform PCA with linear Kernel\n",
    "pca_kernel = lker.LinearKernel()\n",
    "pca_agent = pca.PCA()\n",
    "pca_inputs_al = pca_agent.perform_PCA(inputs = inputs_al,\n",
    "                                      kernel = pca_kernel,\n",
    "                                      dim_num =3)\n",
    "\n",
    "pca_inputs_tr = pca_inputs_al[:1900]\n",
    "pca_inputs_te = pca_inputs_al[1900:]\n",
    "\"\"\""
   ]
  },
  {
   "cell_type": "code",
   "execution_count": null,
   "metadata": {},
   "outputs": [],
   "source": [
    "\"\"\"\n",
    "#Computing bandwidth for gaussian kernel as mean norms of all distances between vectors\n",
    "n = pca_inputs_al.shape[0]\n",
    "Inputs_dup = np.tile(pca_inputs_al[np.newaxis,:,:], reps = (n,1,1))\n",
    "mean_distance = np.mean(np.linalg.norm(Inputs_dup - np.einsum('pnm-> npm', Inputs_dup), axis = 2))\n",
    "del Inputs_dup\n",
    "\"\"\""
   ]
  },
  {
   "cell_type": "code",
   "execution_count": null,
   "metadata": {},
   "outputs": [],
   "source": [
    "\"\"\"\n",
    "lam=10e-4\n",
    "gamma = 1\n",
    "bandwidth = gamma*mean_distance\n",
    "kernel_svm = gker.GaussianKernel(bandwidth)\n",
    "\"\"\""
   ]
  },
  {
   "cell_type": "code",
   "execution_count": null,
   "metadata": {},
   "outputs": [],
   "source": [
    "\"\"\"\n",
    "svmClassifier = svm.SVMClassifier(lam = lam, kernel = kernel_svm)\n",
    "svmClassifier.fit(pca_inputs_tr, labels_tr.astype(np.double))\n",
    "\"\"\""
   ]
  },
  {
   "cell_type": "code",
   "execution_count": null,
   "metadata": {},
   "outputs": [],
   "source": [
    "\"\"\"\n",
    "accuracy = svmClassifier.compute_test_accuracy(pca_inputs_te, labels_te)\n",
    "\"\"\""
   ]
  },
  {
   "cell_type": "code",
   "execution_count": null,
   "metadata": {},
   "outputs": [],
   "source": [
    "D = {'coucou' : np.array([1,2]), 'bonjour' : np.array([3,4])}\n",
    "print(np.array(list(D.values())).shape)"
   ]
  },
  {
   "cell_type": "code",
   "execution_count": null,
   "metadata": {},
   "outputs": [],
   "source": [
    "np.tile(np.arange(16)[:,np.newaxis], reps=(1,5))\n"
   ]
  }
 ],
 "metadata": {
  "kernelspec": {
   "display_name": "Python 3",
   "language": "python",
   "name": "python3"
  },
  "language_info": {
   "codemirror_mode": {
    "name": "ipython",
    "version": 3
   },
   "file_extension": ".py",
   "mimetype": "text/x-python",
   "name": "python",
   "nbconvert_exporter": "python",
   "pygments_lexer": "ipython3",
   "version": "3.5.7"
  }
 },
 "nbformat": 4,
 "nbformat_minor": 2
}
