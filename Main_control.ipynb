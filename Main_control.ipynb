{
 "cells": [
  {
   "cell_type": "markdown",
   "metadata": {},
   "source": [
    "# KERNEL DATA CHALLENGE\n",
    "## AUTHORS : Thibault Desfontaines, Rémi Leluc, Gauthier Tallec"
   ]
  },
  {
   "cell_type": "code",
   "execution_count": 1,
   "metadata": {},
   "outputs": [],
   "source": [
    "import Classifiers.SVMClassifier as svm\n",
    "import Preprocessers.PCA as pca\n",
    "import ModelTesters.KernelMethodOptimizer as kmo\n",
    "\n",
    "import Kernels.LinearKernel as lker\n",
    "import Kernels.GaussianKernel as gker\n",
    "import Kernels.KSpectrumKernel as kspker\n",
    "import Kernels.MismatchKernel as misker\n",
    "\n",
    "\n",
    "import matplotlib.pyplot as plt\n",
    "import numpy as np\n",
    "import pandas as pd"
   ]
  },
  {
   "cell_type": "code",
   "execution_count": 2,
   "metadata": {},
   "outputs": [],
   "source": [
    "def bound_normalisation(x):\n",
    "    if x == 0:\n",
    "        return -1\n",
    "    else:\n",
    "        return x"
   ]
  },
  {
   "cell_type": "code",
   "execution_count": 3,
   "metadata": {},
   "outputs": [],
   "source": [
    "def string_to_array(string):\n",
    "    return np.array(list(string))"
   ]
  },
  {
   "cell_type": "markdown",
   "metadata": {},
   "source": [
    "## DATA IMPORTS"
   ]
  },
  {
   "cell_type": "code",
   "execution_count": 4,
   "metadata": {},
   "outputs": [],
   "source": [
    "filepath = 'challenge-dataset/'\n",
    "##Training sets\n",
    "###Inputs\n",
    "Xtr0_mat100 = pd.read_csv(filepath + 'Xtr0_mat100.csv', delimiter=' ', header = None).values\n",
    "Xtr1_mat100 = pd.read_csv(filepath + 'Xtr1_mat100.csv', delimiter=' ', header = None).values\n",
    "Xtr2_mat100 = pd.read_csv(filepath + 'Xtr2_mat100.csv', delimiter=' ', header = None).values\n",
    "\n",
    "Xtr0 = pd.read_csv(filepath + 'Xtr0.csv', delimiter=',', header = 0)['seq'].values\n",
    "Xtr1 = pd.read_csv(filepath + 'Xtr1.csv', delimiter=',', header = 0)['seq'].values\n",
    "Xtr2 = pd.read_csv(filepath + 'Xtr2.csv', delimiter=',', header = 0)['seq'].values\n",
    "\n",
    "###Labels\n",
    "Ytr0 = (pd.read_csv(filepath + 'Ytr0.csv', delimiter=',', sep='\\n', header = 0)['Bound']\n",
    "          .map(bound_normalisation)\n",
    "          .values\n",
    "       )\n",
    "\n",
    "Ytr1 = (pd.read_csv(filepath + 'Ytr1.csv', delimiter=',', sep='\\n', header = 0)['Bound']\n",
    "          .map(bound_normalisation)\n",
    "          .values\n",
    "       )\n",
    "Ytr2 = (pd.read_csv(filepath + 'Ytr2.csv', delimiter=',', sep='\\n', header = 0)['Bound']\n",
    "          .map(bound_normalisation)\n",
    "          .values\n",
    "       )\n",
    "\n",
    "##Testing Sets\n",
    "Xte0_mat100 = pd.read_csv(filepath + 'Xte0_mat100.csv', delimiter=' ', header = None).values\n",
    "Xte1_mat100 = pd.read_csv(filepath + 'Xte1_mat100.csv', delimiter=' ', header = None).values\n",
    "Xte2_mat100 = pd.read_csv(filepath + 'Xte0_mat100.csv', delimiter=' ', header = None).values\n",
    "\n",
    "Xte0 = pd.read_csv(filepath + 'Xte0.csv', delimiter=',', header = 0)['seq'].values\n",
    "Xte1 = pd.read_csv(filepath + 'Xte1.csv', delimiter=',', header = 0)['seq'].values\n",
    "Xte2 = pd.read_csv(filepath + 'Xte2.csv', delimiter=',', header = 0)['seq'].values"
   ]
  },
  {
   "cell_type": "code",
   "execution_count": 5,
   "metadata": {},
   "outputs": [],
   "source": [
    "k = 8\n",
    "m = 2\n",
    "alphabet = ['A','T','G','C']\n",
    "kernel_mismatch = misker.MismatchKernel(k,m,alphabet)"
   ]
  },
  {
   "cell_type": "markdown",
   "metadata": {},
   "source": [
    "## MODEL TESTS\n",
    "\n",
    "### SVM CLASSIFIER WITH K-SPECTRUM KERNEL"
   ]
  },
  {
   "cell_type": "code",
   "execution_count": 6,
   "metadata": {},
   "outputs": [],
   "source": [
    "#KERNEL PART\n",
    "##Kernel parameters\n",
    "\n",
    "k_mer = 8\n",
    "mismatch = 2\n",
    "\n",
    "##Kernel Instanciation\n",
    "k_mismatch_kernel = misker.MismatchKernel(k = k_mer, m = mismatch, alphabet = ['A','T','G','C'])"
   ]
  },
  {
   "cell_type": "code",
   "execution_count": null,
   "metadata": {},
   "outputs": [],
   "source": []
  },
  {
   "cell_type": "code",
   "execution_count": 7,
   "metadata": {},
   "outputs": [],
   "source": [
    "#SVM PART\n",
    "##Regularization Grid Search parameter\n",
    "hyper_parameters_list = np.array([[10 + i] for i in range(10)])\n",
    "\n",
    "##SVM Instanciation\n",
    "svm_classifier= svm.SVMClassifier()"
   ]
  },
  {
   "cell_type": "code",
   "execution_count": 8,
   "metadata": {
    "scrolled": true
   },
   "outputs": [],
   "source": [
    "k_fold = 5\n",
    "model_optimizer = kmo.KernelMethodOptimizer(svm_classifier, k_mismatch_kernel)\n",
    "load_train = True\n",
    "load_test = True\n",
    "\n",
    "if (not load_train) or (not load_test):\n",
    "    model_optimizer.compute_embeddings(inputs = Xtr0,\n",
    "                                       tests = Xte0, \n",
    "                                       dataset = str(0),\n",
    "                                       load_train = load_train,\n",
    "                                       load_test = load_test)\n",
    "\n",
    "    model_optimizer.compute_embeddings(inputs = Xtr1,\n",
    "                                       tests = Xte1,\n",
    "                                       dataset = str(1),\n",
    "                                       load_train = load_train,\n",
    "                                       load_test = load_test)\n",
    "\n",
    "    model_optimizer.compute_embeddings(inputs = Xtr2,\n",
    "                                       tests = Xte2,\n",
    "                                       dataset = str(2),\n",
    "                                       load_train = load_train,\n",
    "                                       load_test = load_test)\n"
   ]
  },
  {
   "cell_type": "code",
   "execution_count": 10,
   "metadata": {},
   "outputs": [
    {
     "name": "stdout",
     "output_type": "stream",
     "text": [
      "test routine  0  :  0.6475 %\n",
      "test routine  1  :  0.6275 %\n",
      "test routine  2  :  0.63 %\n",
      "test routine  3  :  0.6325000000000001 %\n",
      "test routine  4  :  0.635 %\n",
      "accuracy list [0.6475, 0.6275, 0.63, 0.6325000000000001, 0.635]\n",
      "test routine  0  :  0.65 %\n",
      "test routine  1  :  0.625 %\n",
      "test routine  2  :  0.6225 %\n",
      "test routine  3  :  0.63 %\n",
      "test routine  4  :  0.635 %\n",
      "accuracy list [0.65, 0.625, 0.6225, 0.63, 0.635]\n",
      "test routine  0  :  0.6625 %\n",
      "test routine  1  :  0.6174999999999999 %\n",
      "test routine  2  :  0.6275 %\n",
      "test routine  3  :  0.6325000000000001 %\n",
      "test routine  4  :  0.63 %\n",
      "accuracy list [0.6625, 0.6174999999999999, 0.6275, 0.6325000000000001, 0.63]\n",
      "test routine  0  :  0.6675 %\n",
      "test routine  1  :  0.61 %\n",
      "test routine  2  :  0.63 %\n",
      "test routine  3  :  0.6425000000000001 %\n",
      "test routine  4  :  0.625 %\n",
      "accuracy list [0.6675, 0.61, 0.63, 0.6425000000000001, 0.625]\n",
      "test routine  0  :  0.6599999999999999 %\n",
      "test routine  1  :  0.6074999999999999 %\n",
      "test routine  2  :  0.625 %\n",
      "test routine  3  :  0.6425000000000001 %\n",
      "test routine  4  :  0.6174999999999999 %\n",
      "accuracy list [0.6599999999999999, 0.6074999999999999, 0.625, 0.6425000000000001, 0.6174999999999999]\n",
      "test routine  0  :  0.6525000000000001 %\n",
      "test routine  1  :  0.6074999999999999 %\n",
      "test routine  2  :  0.635 %\n",
      "test routine  3  :  0.645 %\n",
      "test routine  4  :  0.6125 %\n",
      "accuracy list [0.6525000000000001, 0.6074999999999999, 0.635, 0.645, 0.6125]\n",
      "test routine  0  :  0.6599999999999999 %\n",
      "test routine  1  :  0.6 %\n",
      "test routine  2  :  0.635 %\n",
      "test routine  3  :  0.6475 %\n",
      "test routine  4  :  0.615 %\n",
      "accuracy list [0.6599999999999999, 0.6, 0.635, 0.6475, 0.615]\n",
      "test routine  0  :  0.6599999999999999 %\n",
      "test routine  1  :  0.5974999999999999 %\n",
      "test routine  2  :  0.635 %\n",
      "test routine  3  :  0.6525000000000001 %\n",
      "test routine  4  :  0.6174999999999999 %\n",
      "accuracy list [0.6599999999999999, 0.5974999999999999, 0.635, 0.6525000000000001, 0.6174999999999999]\n",
      "test routine  0  :  0.6575 %\n",
      "test routine  1  :  0.5900000000000001 %\n",
      "test routine  2  :  0.625 %\n",
      "test routine  3  :  0.655 %\n",
      "test routine  4  :  0.6174999999999999 %\n",
      "accuracy list [0.6575, 0.5900000000000001, 0.625, 0.655, 0.6174999999999999]\n",
      "test routine  0  :  0.6575 %\n",
      "test routine  1  :  0.5875 %\n",
      "test routine  2  :  0.625 %\n",
      "test routine  3  :  0.655 %\n",
      "test routine  4  :  0.6125 %\n",
      "accuracy list [0.6575, 0.5875, 0.625, 0.655, 0.6125]\n"
     ]
    },
    {
     "ename": "ValueError",
     "evalue": "matmul: Input operand 1 has a mismatch in its core dimension 0, with gufunc signature (n?,k),(k,m?)->(n?,m?) (size 2000 is different from 1600)",
     "output_type": "error",
     "traceback": [
      "\u001b[0;31m---------------------------------------------------------------------------\u001b[0m",
      "\u001b[0;31mValueError\u001b[0m                                Traceback (most recent call last)",
      "\u001b[0;32m<ipython-input-10-3cca0df60b4f>\u001b[0m in \u001b[0;36m<module>\u001b[0;34m\u001b[0m\n\u001b[1;32m      6\u001b[0m                                                       \u001b[0mdataset\u001b[0m \u001b[0;34m=\u001b[0m \u001b[0mstr\u001b[0m\u001b[0;34m(\u001b[0m\u001b[0;36m0\u001b[0m\u001b[0;34m)\u001b[0m\u001b[0;34m,\u001b[0m\u001b[0;34m\u001b[0m\u001b[0m\n\u001b[1;32m      7\u001b[0m                                                       \u001b[0mload_train\u001b[0m \u001b[0;34m=\u001b[0m \u001b[0;32mTrue\u001b[0m\u001b[0;34m,\u001b[0m\u001b[0;34m\u001b[0m\u001b[0m\n\u001b[0;32m----> 8\u001b[0;31m                                                       \u001b[0mload_test\u001b[0m \u001b[0;34m=\u001b[0m \u001b[0;32mTrue\u001b[0m\u001b[0;34m\u001b[0m\u001b[0m\n\u001b[0m\u001b[1;32m      9\u001b[0m                                                      )\n",
      "\u001b[0;32m~/MVA/KM/Kernel-methods/ModelTesters/KernelMethodOptimizer.py\u001b[0m in \u001b[0;36mmake_optimal_prediction\u001b[0;34m(self, k, inputs, tests, labels, hyperParametersList, dataset, load_train, load_test)\u001b[0m\n\u001b[1;32m     67\u001b[0m         \u001b[0mself\u001b[0m\u001b[0;34m.\u001b[0m\u001b[0mmodel\u001b[0m\u001b[0;34m.\u001b[0m\u001b[0msetHyperParameters\u001b[0m\u001b[0;34m(\u001b[0m\u001b[0mhyperParameters\u001b[0m\u001b[0;34m)\u001b[0m\u001b[0;34m\u001b[0m\u001b[0m\n\u001b[1;32m     68\u001b[0m \u001b[0;34m\u001b[0m\u001b[0m\n\u001b[0;32m---> 69\u001b[0;31m         \u001b[0;32mreturn\u001b[0m \u001b[0mself\u001b[0m\u001b[0;34m.\u001b[0m\u001b[0mmodel\u001b[0m\u001b[0;34m.\u001b[0m\u001b[0mpredict\u001b[0m\u001b[0;34m(\u001b[0m\u001b[0mtest_embedding\u001b[0m\u001b[0;34m)\u001b[0m\u001b[0;34m\u001b[0m\u001b[0m\n\u001b[0m\u001b[1;32m     70\u001b[0m \u001b[0;34m\u001b[0m\u001b[0m\n\u001b[1;32m     71\u001b[0m     \u001b[0;32mdef\u001b[0m \u001b[0mcompute_embeddings\u001b[0m\u001b[0;34m(\u001b[0m\u001b[0mself\u001b[0m\u001b[0;34m,\u001b[0m \u001b[0minputs\u001b[0m\u001b[0;34m,\u001b[0m \u001b[0mtests\u001b[0m\u001b[0;34m,\u001b[0m \u001b[0mdataset\u001b[0m\u001b[0;34m)\u001b[0m\u001b[0;34m:\u001b[0m\u001b[0;34m\u001b[0m\u001b[0m\n",
      "\u001b[0;32m~/MVA/KM/Kernel-methods/Classifiers/SVMClassifier.py\u001b[0m in \u001b[0;36mpredict\u001b[0;34m(self, test_embedding)\u001b[0m\n\u001b[1;32m     43\u001b[0m \u001b[0;34m\u001b[0m\u001b[0m\n\u001b[1;32m     44\u001b[0m     \u001b[0;32mdef\u001b[0m \u001b[0mpredict\u001b[0m\u001b[0;34m(\u001b[0m\u001b[0mself\u001b[0m\u001b[0;34m,\u001b[0m\u001b[0mtest_embedding\u001b[0m\u001b[0;34m)\u001b[0m\u001b[0;34m:\u001b[0m\u001b[0;34m\u001b[0m\u001b[0m\n\u001b[0;32m---> 45\u001b[0;31m         \u001b[0;32mreturn\u001b[0m \u001b[0mnp\u001b[0m\u001b[0;34m.\u001b[0m\u001b[0msign\u001b[0m\u001b[0;34m(\u001b[0m\u001b[0;34m(\u001b[0m\u001b[0mself\u001b[0m\u001b[0;34m.\u001b[0m\u001b[0mpredictor\u001b[0m\u001b[0;34m.\u001b[0m\u001b[0mreshape\u001b[0m\u001b[0;34m(\u001b[0m\u001b[0;34m-\u001b[0m\u001b[0;36m1\u001b[0m\u001b[0;34m,\u001b[0m\u001b[0;36m1\u001b[0m\u001b[0;34m)\u001b[0m\u001b[0;34m)\u001b[0m\u001b[0;34m.\u001b[0m\u001b[0mT\u001b[0m\u001b[0;34m@\u001b[0m\u001b[0mtest_embedding\u001b[0m\u001b[0;34m)\u001b[0m\u001b[0;34m[\u001b[0m\u001b[0;36m0\u001b[0m\u001b[0;34m]\u001b[0m\u001b[0;34m\u001b[0m\u001b[0m\n\u001b[0m\u001b[1;32m     46\u001b[0m \u001b[0;34m\u001b[0m\u001b[0m\n\u001b[1;32m     47\u001b[0m \"\"\" \n",
      "\u001b[0;31mValueError\u001b[0m: matmul: Input operand 1 has a mismatch in its core dimension 0, with gufunc signature (n?,k),(k,m?)->(n?,m?) (size 2000 is different from 1600)"
     ]
    }
   ],
   "source": [
    "prediction0 = model_optimizer.make_optimal_prediction(k = k_fold,\n",
    "                                                      inputs = Xtr0,\n",
    "                                                      tests = Xte0,\n",
    "                                                      labels = Ytr0,\n",
    "                                                      hyperParametersList = hyper_parameters_list,\n",
    "                                                      dataset = str(0),\n",
    "                                                      load_train = True,\n",
    "                                                      load_test = True\n",
    "                                                     )"
   ]
  },
  {
   "cell_type": "code",
   "execution_count": 12,
   "metadata": {},
   "outputs": [],
   "source": [
    "test_embedding = model_optimizer.kernel.load_embedding('test', str(0))"
   ]
  },
  {
   "cell_type": "code",
   "execution_count": 14,
   "metadata": {},
   "outputs": [
    {
     "name": "stdout",
     "output_type": "stream",
     "text": [
      "(2000, 1000)\n",
      "(2000,)\n"
     ]
    }
   ],
   "source": [
    "print(test_embedding.shape)\n",
    "print(Xtr0.shape)\n",
    "print(Xtr)"
   ]
  },
  {
   "cell_type": "code",
   "execution_count": null,
   "metadata": {},
   "outputs": [],
   "source": [
    "L = [1,2,3,4,5]\n",
    "L[:2]\n",
    "L[2:]"
   ]
  },
  {
   "cell_type": "code",
   "execution_count": null,
   "metadata": {},
   "outputs": [],
   "source": [
    "\"\"\"\n",
    "#Perform PCA with linear Kernel\n",
    "pca_kernel = lker.LinearKernel()\n",
    "pca_agent = pca.PCA()\n",
    "pca_inputs_al = pca_agent.perform_PCA(inputs = inputs_al,\n",
    "                                      kernel = pca_kernel,\n",
    "                                      dim_num =3)\n",
    "\n",
    "pca_inputs_tr = pca_inputs_al[:1900]\n",
    "pca_inputs_te = pca_inputs_al[1900:]\n",
    "\"\"\""
   ]
  },
  {
   "cell_type": "code",
   "execution_count": null,
   "metadata": {},
   "outputs": [],
   "source": [
    "\"\"\"\n",
    "#Computing bandwidth for gaussian kernel as mean norms of all distances between vectors\n",
    "n = pca_inputs_al.shape[0]\n",
    "Inputs_dup = np.tile(pca_inputs_al[np.newaxis,:,:], reps = (n,1,1))\n",
    "mean_distance = np.mean(np.linalg.norm(Inputs_dup - np.einsum('pnm-> npm', Inputs_dup), axis = 2))\n",
    "del Inputs_dup\n",
    "\"\"\""
   ]
  },
  {
   "cell_type": "code",
   "execution_count": null,
   "metadata": {},
   "outputs": [],
   "source": [
    "\"\"\"\n",
    "lam=10e-4\n",
    "gamma = 1\n",
    "bandwidth = gamma*mean_distance\n",
    "kernel_svm = gker.GaussianKernel(bandwidth)\n",
    "\"\"\""
   ]
  },
  {
   "cell_type": "code",
   "execution_count": null,
   "metadata": {},
   "outputs": [],
   "source": [
    "\"\"\"\n",
    "svmClassifier = svm.SVMClassifier(lam = lam, kernel = kernel_svm)\n",
    "svmClassifier.fit(pca_inputs_tr, labels_tr.astype(np.double))\n",
    "\"\"\""
   ]
  },
  {
   "cell_type": "code",
   "execution_count": null,
   "metadata": {},
   "outputs": [],
   "source": [
    "\"\"\"\n",
    "accuracy = svmClassifier.compute_test_accuracy(pca_inputs_te, labels_te)\n",
    "\"\"\""
   ]
  },
  {
   "cell_type": "code",
   "execution_count": null,
   "metadata": {},
   "outputs": [],
   "source": [
    "D = {'coucou' : np.array([1,2]), 'bonjour' : np.array([3,4])}\n",
    "print(np.array(list(D.values())).shape)"
   ]
  },
  {
   "cell_type": "code",
   "execution_count": null,
   "metadata": {},
   "outputs": [],
   "source": [
    "np.tile(np.arange(16)[:,np.newaxis], reps=(1,5))\n"
   ]
  }
 ],
 "metadata": {
  "kernelspec": {
   "display_name": "Python 3",
   "language": "python",
   "name": "python3"
  },
  "language_info": {
   "codemirror_mode": {
    "name": "ipython",
    "version": 3
   },
   "file_extension": ".py",
   "mimetype": "text/x-python",
   "name": "python",
   "nbconvert_exporter": "python",
   "pygments_lexer": "ipython3",
   "version": "3.5.7"
  }
 },
 "nbformat": 4,
 "nbformat_minor": 2
}
