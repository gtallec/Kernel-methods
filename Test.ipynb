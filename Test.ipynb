{
 "cells": [
  {
   "cell_type": "markdown",
   "metadata": {},
   "source": [
    "# Sand Box"
   ]
  },
  {
   "cell_type": "markdown",
   "metadata": {},
   "source": [
    "### IMPORTS"
   ]
  },
  {
   "cell_type": "code",
   "execution_count": 12,
   "metadata": {},
   "outputs": [],
   "source": [
    "import Classifiers.SVMClassifier as svm\n",
    "import Kernels.Kernel as ker\n",
    "import Kernels.GaussianKernel as gker\n",
    "import Kernels.LinearKernel as lker\n",
    "import Kernels.LambdaSubstringKernel as lsker\n",
    "import ModelTesters.KernelMethodOptimizer as kmo\n",
    "\n",
    "import numpy as np\n",
    "\n",
    "\n",
    "from numba import jit\n"
   ]
  },
  {
   "cell_type": "code",
   "execution_count": 2,
   "metadata": {},
   "outputs": [],
   "source": [
    "#Custrom Data set\n",
    "inputs = np.array([\n",
    "                    [-1,1],\n",
    "                    [1/2,1],\n",
    "                    [1/2,2],\n",
    "                    [-2,2],\n",
    "                    [-1,5/2],\n",
    "                    [1/2,-1],\n",
    "                    [1/2,-2],\n",
    "                    [-1/2, 3/2],\n",
    "                    [2,1/2],\n",
    "                    [5/2,3/2]   \n",
    "])\n",
    "pet = np.array([\n",
    "                    [-1,1],\n",
    "                    [1/2,1],\n",
    "                    [1/2,2],\n",
    "                    [-2,2],\n",
    "                    [-1,5/2],\n",
    "                    [1/2,-1],\n",
    "                    [1/2,-2],\n",
    "                    [-1/2, 3/2],\n",
    "                    [2,1/2],\n",
    "                    [5/2,3/2],\n",
    "                    [4/3, 7/2]\n",
    "])\n",
    "labels = np.array([1,1,1,1,1,-1,-1,-1,-1,-1])"
   ]
  },
  {
   "cell_type": "code",
   "execution_count": 3,
   "metadata": {},
   "outputs": [],
   "source": [
    "import Kernels.KSpectrumKernel as kspec\n",
    "import pandas as pd\n",
    "filepath = 'challenge-dataset/'"
   ]
  },
  {
   "cell_type": "code",
   "execution_count": 4,
   "metadata": {},
   "outputs": [
    {
     "data": {
      "text/plain": [
       "0"
      ]
     },
     "execution_count": 4,
     "metadata": {},
     "output_type": "execute_result"
    }
   ],
   "source": [
    "import re\n",
    "test = 'coucouc'\n",
    "[i.start() for i in re.finditer('g', test)]\n",
    "def find_letters_in_word(letter, word):\n",
    "    return np.fromiter(map(lambda x: x.start(),re.finditer(letter, word)), dtype = int)\n",
    "\n",
    "fun = np.vectorize(find_letters_in_word, excluded=['word'], signature='()->(n)')\n",
    "\n",
    "find_letters_in_word('g','coucou').shape[0]\n"
   ]
  },
  {
   "cell_type": "code",
   "execution_count": null,
   "metadata": {},
   "outputs": [
    {
     "name": "stderr",
     "output_type": "stream",
     "text": [
      "\n",
      "  7%|▋         | 147/2000 [04:25<1:32:35,  3.00s/it]"
     ]
    }
   ],
   "source": [
    "import time\n",
    "\n",
    "t1 = time.time()\n",
    "Xtr0 = pd.read_csv(filepath + 'Xtr0.csv', delimiter=',', header = 0)['seq'].values\n",
    "lambdaSubstringKernel = lsker.LambdaSubstringKernel(k = 4, lam = 0.7, alphabet = ['A','T','G','C'] )\n",
    "\n",
    "lambdaSubstringKernel.compute_similarity_matrix(Xtr0, Xtr0)\n",
    "\n",
    "\n",
    "\n",
    "\n",
    "\n",
    "\n",
    "\n",
    "\n",
    "\n"
   ]
  },
  {
   "cell_type": "code",
   "execution_count": 11,
   "metadata": {},
   "outputs": [
    {
     "name": "stdout",
     "output_type": "stream",
     "text": [
      "[[ 0  1  2  3  4]\n",
      " [ 5  6  7  8  9]\n",
      " [10 11 12 13 14]\n",
      " [15 16 17 18 19]\n",
      " [20 21 22 23 24]]\n"
     ]
    },
    {
     "data": {
      "text/plain": [
       "array([[ 0,  1,  3],\n",
       "       [10, 11, 13]])"
      ]
     },
     "execution_count": 11,
     "metadata": {},
     "output_type": "execute_result"
    }
   ],
   "source": [
    "a = np.arange(25).reshape(5,5)\n",
    "print(a)\n",
    "a[np.ix_([0,2],[0,1,3])]"
   ]
  },
  {
   "cell_type": "code",
   "execution_count": null,
   "metadata": {},
   "outputs": [],
   "source": [
    "dico = dict()\n",
    "dico['jojo','bar'] = 15\n",
    "dico['bar', 'jojo'] = 17\n",
    "print(dico)\n",
    "('bar', 'jojo') in dico "
   ]
  }
 ],
 "metadata": {
  "kernelspec": {
   "display_name": "Python 3",
   "language": "python",
   "name": "python3"
  },
  "language_info": {
   "codemirror_mode": {
    "name": "ipython",
    "version": 3
   },
   "file_extension": ".py",
   "mimetype": "text/x-python",
   "name": "python",
   "nbconvert_exporter": "python",
   "pygments_lexer": "ipython3",
   "version": "3.5.7"
  }
 },
 "nbformat": 4,
 "nbformat_minor": 2
}
